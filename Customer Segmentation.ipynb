{
  "cells": [
    {
      "cell_type": "markdown",
      "metadata": {
        "id": "rub4vC26Pquo"
      },
      "source": [
        "<center>\n",
        "\n",
        "# EDA of Bank transactions data\n",
        "Muhammad Farjad\n",
        "\n",
        "</center>"
      ]
    },
    {
      "cell_type": "code",
      "execution_count": null,
      "metadata": {
        "id": "MDiyDgsAPqut"
      },
      "outputs": [],
      "source": [
        "import pandas as pd\n",
        "import numpy as np\n",
        "import seaborn as sns\n",
        "import matplotlib.pyplot as plt\n",
        "from datetime import datetime, timedelta\n",
        "from scipy.stats import ttest_ind\n",
        "\n",
        "import re\n",
        "\n",
        "from sklearn. preprocessing import StandardScaler\n",
        "from sklearn.cluster import KMeans\n",
        "from sklearn.metrics import silhouette_score\n",
        "\n",
        "try:\n",
        "    from kneed import KneeLocator\n",
        "except ImportError:\n",
        "    !pip install kneed\n",
        "\n",
        "import plotly.graph_objects as go\n",
        "\n",
        "\n",
        "\n",
        "%matplotlib inline\n",
        "sns.set(color_codes=True)"
      ]
    },
    {
      "cell_type": "code",
      "execution_count": null,
      "metadata": {
        "id": "wCQ-a-_lPquw"
      },
      "outputs": [],
      "source": [
        "df = pd.read_csv('bank_transactions.csv')\n",
        "\n",
        "df.head()"
      ]
    },
    {
      "cell_type": "markdown",
      "metadata": {
        "id": "yC25yZEkPquy"
      },
      "source": [
        "### Goal of this notebook\n",
        "\n",
        "1.    Perform Clustering / Segmentation on the dataset and identify popular customer groups along with their definitions/rules\n",
        "2.    Perform Location-wise analysis to identify regional trends in India\n",
        "3.    Perform transaction-related analysis to identify interesting trends that can be used by a bank to improve / optimi their user experiences\n",
        "5.    Customer Recency, Frequency, Monetary analysis\n",
        "6.    Network analysis or Graph analysis of customer data.\n"
      ]
    },
    {
      "cell_type": "code",
      "execution_count": null,
      "metadata": {
        "id": "jEEqCrcePquz"
      },
      "outputs": [],
      "source": [
        "df.tail()"
      ]
    },
    {
      "cell_type": "code",
      "execution_count": null,
      "metadata": {
        "id": "fbJfDiePPqu0"
      },
      "outputs": [],
      "source": [
        "df.dtypes"
      ]
    },
    {
      "cell_type": "markdown",
      "metadata": {
        "id": "4GJiMnzwPqu1"
      },
      "source": [
        "Checking for Null values in the dataset"
      ]
    },
    {
      "cell_type": "code",
      "execution_count": null,
      "metadata": {
        "id": "vyrobsUaPqu2"
      },
      "outputs": [],
      "source": [
        "# Check for null or NaN values\n",
        "null_values_summary = df.isnull().sum()\n",
        "null_values_summary"
      ]
    },
    {
      "cell_type": "markdown",
      "metadata": {
        "id": "IuJ2aEDIPqu3"
      },
      "source": [
        "drop all the null values"
      ]
    },
    {
      "cell_type": "code",
      "execution_count": null,
      "metadata": {
        "id": "4J8i0fVNPqu6"
      },
      "outputs": [],
      "source": [
        "df = df.dropna()"
      ]
    },
    {
      "cell_type": "markdown",
      "metadata": {
        "id": "sHxKN6byPqu7"
      },
      "source": [
        "<center>\n",
        "\n",
        "# Data preprocessing\n",
        "\n",
        "</center>"
      ]
    },
    {
      "cell_type": "markdown",
      "metadata": {
        "id": "hR8WIMAuPqu7"
      },
      "source": [
        "### Handling Null or NaN Values\n"
      ]
    },
    {
      "cell_type": "markdown",
      "metadata": {
        "id": "-o3YYuMAPqu8"
      },
      "source": [
        "Convert the CustomerDOB to datetime format"
      ]
    },
    {
      "cell_type": "code",
      "execution_count": null,
      "metadata": {
        "id": "8g_XUURBPqu8"
      },
      "outputs": [],
      "source": [
        "test_df = df.copy()\n",
        "\n",
        "test_df['CustomerDOB'] = pd.to_datetime(test_df['CustomerDOB'], infer_datetime_format=True)\n",
        "\n",
        "# Adjust years to handle 2-digit years correctly\n",
        "def adjust_year(dob):\n",
        "    if dob.year > datetime.now().year:\n",
        "        return dob.replace(year=dob.year - 100)\n",
        "    return dob\n",
        "\n",
        "test_df['CustomerDOB'] = test_df['CustomerDOB'].apply(adjust_year)\n",
        "test_df['TransactionDate'] = pd.to_datetime(test_df['TransactionDate'], infer_datetime_format=True)\n",
        "\n",
        "\n",
        "# Calculate age\n",
        "current_date = datetime.now()\n",
        "\n",
        "test_df['CustomerAge'] =test_df['TransactionDate'].dt.year - test_df['CustomerDOB'].dt.year\n",
        "\n"
      ]
    },
    {
      "cell_type": "code",
      "execution_count": null,
      "metadata": {
        "id": "c7rFt6f4Pqu9"
      },
      "outputs": [],
      "source": [
        "test_df.head()"
      ]
    },
    {
      "cell_type": "code",
      "execution_count": null,
      "metadata": {
        "id": "Ozwc99LqPqu-"
      },
      "outputs": [],
      "source": [
        "df = test_df.copy()"
      ]
    },
    {
      "cell_type": "markdown",
      "metadata": {
        "id": "RFNwWMGkPqu-"
      },
      "source": [
        "Convert the TransactionDate to datetime format"
      ]
    },
    {
      "cell_type": "code",
      "execution_count": null,
      "metadata": {
        "id": "TZb2hODKPqu_"
      },
      "outputs": [],
      "source": [
        "test_df = df.copy()\n",
        "\n",
        "\n",
        "\n",
        "# Adjust years to handle 2-digit years correctly\n",
        "def adjust_year(dob):\n",
        "    if dob.year > datetime.now().year:\n",
        "        return dob.replace(year=dob.year - 100)\n",
        "    return dob\n",
        "\n",
        "test_df['TransactionDate'] = test_df['TransactionDate'].apply(adjust_year)\n",
        "\n",
        "test_df.head()"
      ]
    },
    {
      "cell_type": "code",
      "execution_count": null,
      "metadata": {
        "id": "G8RQCoE9Pqu_"
      },
      "outputs": [],
      "source": [
        "df = test_df.copy()"
      ]
    },
    {
      "cell_type": "code",
      "execution_count": null,
      "metadata": {
        "id": "x3kclDDuPqvA"
      },
      "outputs": [],
      "source": [
        "df['CustomerDOB'].value_counts()"
      ]
    },
    {
      "cell_type": "markdown",
      "metadata": {
        "id": "-rGxRfWVPqvA"
      },
      "source": [
        "There are too many DOB with year 1800, which is unlikely so we are going to drop them"
      ]
    },
    {
      "cell_type": "code",
      "execution_count": null,
      "metadata": {
        "id": "1UP561b6PqvA"
      },
      "outputs": [],
      "source": [
        "df = df.loc[~(df['CustomerDOB'] == '1/1/1800')]\n",
        "df['CustomerDOB'].value_counts()"
      ]
    },
    {
      "cell_type": "markdown",
      "metadata": {
        "id": "hM6kZ2uoPqvB"
      },
      "source": [
        "<center>\n",
        "\n",
        "# Exploratory Data Analysis (EDA)\n",
        "\n",
        "</center>\n",
        "1. Transaction Patterns During Holidays:\n",
        "\n",
        "        Analyze the number of transactions during major holidays like Diwali, Eid, Independence Day, and Christmas. Check if there is a significant increase in transactions during these periods compared to non-holiday periods.\n",
        "\n",
        "2. Customer Age and Transaction Behavior:\n",
        "\n",
        "        Investigate if there is a relationship between the age of customers and their transaction behaviors. For example, do older customers tend to make larger or more frequent transactions?\n",
        "\n",
        "3. Geographic Transaction Analysis:\n",
        "\n",
        "        Compare transaction amounts and frequencies across different locations. Identify which locations have higher transaction volumes and if there are any seasonal trends.\n",
        "\n",
        "4. Gender-Based Transaction Analysis:\n",
        "\n",
        "        Examine if there are differences in transaction behaviors between male and female customers. For instance, do one gender tend to spend more on average per transaction?\n",
        "\n",
        "5. Account Balance Impact on Transaction Amounts:\n",
        "\n",
        "        Analyze if customers with higher account balances tend to make larger transactions. This can help in understanding spending behaviors based on financial standing."
      ]
    },
    {
      "cell_type": "markdown",
      "metadata": {
        "id": "0SdFcQ_RPqvB"
      },
      "source": [
        "## Transaction patterns during holidays\n",
        "\n",
        "<span style=\"color:red\">Since the data is for 2016, the dates of holidays like Eid-ul Fitr and Eid-ul Adha are taken for that year.</span>\n",
        "\n",
        "\n",
        "Major Holidays in India in 2016:\n",
        "\n",
        "- Republic Day: Jan-26-2016\n",
        "- Eid-ul Fitr: Jul-6-2016 to Jul-8-2016\n",
        "- Ambedkar Jayanti: 14-April-2016\n",
        "- Independence Day: 15-Aug-2016\n",
        "- Eid-ul Adha: Sep-12-2016 to Sep-14-2016\n",
        "- Gandhi Jayanti: 2-Oct-2016\n",
        "- Mawlid: 12-Dec-2016\n",
        "- Diwali: 30-Oct-2016"
      ]
    },
    {
      "cell_type": "code",
      "execution_count": null,
      "metadata": {
        "id": "W42nBTWwPqvC"
      },
      "outputs": [],
      "source": [
        "holidays = {\n",
        "    'Diwali': '2016-10-30',\n",
        "    'Eid-ul Fitr': '2016-07-07',\n",
        "    'Independence Day': '2016-08-15',\n",
        "    'Christmas': '2016-12-25',\n",
        "    'New Year': '2016-12-31',\n",
        "    'Ambedkar Jayanti': '2016-04-14',\n",
        "    'Eid-ul Zuha': '2016-09-13',\n",
        "    'Valentine Day': '2016-02-14',\n",
        "    'Mawlid': '2016-12-12'\n",
        "}"
      ]
    },
    {
      "cell_type": "markdown",
      "metadata": {
        "id": "I6M86ejpPqvC"
      },
      "source": [
        "We are going to see the transaction patterns during these holiday weeks.\n",
        "As people tend to spend money on the week of holidays."
      ]
    },
    {
      "cell_type": "code",
      "execution_count": null,
      "metadata": {
        "id": "VslqkF9dPqvD"
      },
      "outputs": [],
      "source": [
        "holiday_dates = pd.to_datetime(list(holidays.values()))\n",
        "\n",
        "# Define date ranges for each holiday (1 week before the holiday and the week of the holiday)\n",
        "date_ranges = {\n",
        "    holiday: (date - timedelta(days=7), date + timedelta(days=7))\n",
        "    for holiday, date in zip(holidays.keys(), holiday_dates)\n",
        "}\n",
        "\n",
        "# Filter transactions that occur within these date ranges\n",
        "def is_in_date_range(transaction_date, date_ranges):\n",
        "    for start_date, end_date in date_ranges.values():\n",
        "        if start_date <= transaction_date <= end_date:\n",
        "            return True\n",
        "    return False\n",
        "\n",
        "df['IsHolidayWeek'] = df['TransactionDate'].apply(lambda x: is_in_date_range(x, date_ranges))\n",
        "\n",
        "holiday_week_transactions = df[df['IsHolidayWeek']]\n",
        "non_holiday_week_transactions = df[~df['IsHolidayWeek']]"
      ]
    },
    {
      "cell_type": "code",
      "execution_count": null,
      "metadata": {
        "id": "VD-b3ETePqvD"
      },
      "outputs": [],
      "source": [
        "# Analyze number of transactions\n",
        "num_holiday_week_transactions = holiday_week_transactions.shape[0]\n",
        "num_non_holiday_week_transactions = non_holiday_week_transactions.shape[0]\n",
        "\n",
        "# Perform statistical test\n",
        "holiday_week_amounts = holiday_week_transactions['TransactionAmount (INR)']\n",
        "non_holiday_week_amounts = non_holiday_week_transactions['TransactionAmount (INR)']\n",
        "\n",
        "# T-test to check if there is a significant increase in transactions during holiday weeks\n",
        "t_stat, p_value = ttest_ind(holiday_week_amounts, non_holiday_week_amounts, equal_var=False)\n",
        "\n",
        "# Results\n",
        "print(f\"Number of transactions during holiday weeks: {num_holiday_week_transactions}\")\n",
        "print(f\"Number of transactions during non-holiday weeks: {num_non_holiday_week_transactions}\")\n",
        "print(f\"T-statistic: {t_stat}\")\n",
        "print(f\"P-value: {p_value}\")\n",
        "\n",
        "if p_value > 0.05:\n",
        "    print(\"There is a significant increase in transactions during holiday weeks compared to non-holiday weeks.\")\n",
        "else:\n",
        "    print(\"There is no significant increase in transactions during holiday weeks compared to non-holiday weeks.\")\n"
      ]
    },
    {
      "cell_type": "markdown",
      "metadata": {
        "id": "oqQ6UdnDPqvD"
      },
      "source": [
        "Chart to see the transaction patterns during holiday weeks and non-holiday weeks"
      ]
    },
    {
      "cell_type": "code",
      "execution_count": null,
      "metadata": {
        "id": "myD-h-BQPqvE"
      },
      "outputs": [],
      "source": [
        "# Bar chart comparing the number of transactions\n",
        "transaction_counts = {\n",
        "    'Holiday Weeks': num_holiday_week_transactions,\n",
        "    'Non-Holiday Weeks': num_non_holiday_week_transactions\n",
        "}\n",
        "\n",
        "plt.figure(figsize=(10, 5))\n",
        "plt.bar(transaction_counts.keys(), transaction_counts.values(), color=['blue', 'green'])\n",
        "plt.xlabel('Period')\n",
        "plt.ylabel('Number of Transactions')\n",
        "plt.title('Number of Transactions During Holiday Weeks vs. Non-Holiday Weeks')\n",
        "plt.show()"
      ]
    },
    {
      "cell_type": "markdown",
      "metadata": {
        "id": "_a-w8WExPqvE"
      },
      "source": [
        "<span style=\"color:red\">Number of transactions during holiday weeks: 563130<br>\n",
        "Number of transactions during non-holiday weeks: 485437<br>\n",
        "<br>\n",
        "T-statistic: 1.443339338694765<br>\n",
        "P-value: 0.14892520234165169<br></span>\n",
        "There is a significant increase in transactions during holidays compared to non-holiday periods.\n",
        "\n",
        "As shown in number of transactions, the difference in transaction amounts during holidays and non-holidays is statistically significant."
      ]
    },
    {
      "cell_type": "code",
      "execution_count": null,
      "metadata": {
        "id": "lY9dhwo4PqvF"
      },
      "outputs": [],
      "source": [
        "# Count transactions for each holiday week\n",
        "holiday_week_counts = {}\n",
        "for holiday, (start_date, end_date) in date_ranges.items():\n",
        "    count = df[(df['TransactionDate'] >= start_date) & (df['TransactionDate'] <= end_date)].shape[0]\n",
        "    holiday_week_counts[holiday] = count\n",
        "\n",
        "# Bar chart for transactions during each holiday week\n",
        "plt.figure(figsize=(10, 5))\n",
        "plt.bar(holiday_week_counts.keys(), holiday_week_counts.values(), color='purple')\n",
        "plt.xlabel('Holiday')\n",
        "plt.ylabel('Number of Transactions')\n",
        "plt.title('Number of Transactions During Each Holiday Week')\n",
        "plt.xticks(rotation=45)\n",
        "plt.show()"
      ]
    },
    {
      "cell_type": "markdown",
      "metadata": {
        "id": "P04LuwhGPqvF"
      },
      "source": [
        "#### Conclusion:\n",
        "People tend to send more money during holidays. <span style=\"color:red\">Especially during Independence Day and Eid-ul Zuha.</span>\n",
        "(According to Data)"
      ]
    },
    {
      "cell_type": "markdown",
      "metadata": {
        "id": "mZpJ0OtxPqvG"
      },
      "source": [
        "## Customer Age and Transaction Behavior"
      ]
    },
    {
      "cell_type": "markdown",
      "metadata": {
        "id": "VpKvnLbsPqvG"
      },
      "source": [
        "Defining age groups for customers:\n",
        "- 0-20\n",
        "- 21-30\n",
        "- 31-40\n",
        "- 41-50\n",
        "- 51-60\n",
        "- 61-70\n",
        "- 71-80\n",
        "- 81-100\n",
        "\n",
        "Checking if some age groups tend to make more transactions than others."
      ]
    },
    {
      "cell_type": "code",
      "execution_count": null,
      "metadata": {
        "id": "Rnzm8GotPqvG"
      },
      "outputs": [],
      "source": [
        "# Define age groups\n",
        "bins = [0, 20, 30, 40, 50, 60, 70, 80, 100]\n",
        "labels = ['0-20', '21-30', '31-40', '41-50', '51-60', '61-70', '71-80', '81-100']\n",
        "df['AgeGroup'] = pd.cut(df['CustomerAge'], bins, labels=labels, right=False)\n",
        "\n",
        "# Analyze transaction amounts and frequency based on age groups\n",
        "age_group_stats = df.groupby('AgeGroup').agg(\n",
        "    TotalTransactions=('TransactionID', 'count'),\n",
        "    AverageTransactionAmount=('TransactionAmount (INR)', 'mean')\n",
        ").reset_index()"
      ]
    },
    {
      "cell_type": "markdown",
      "metadata": {
        "id": "pkGykRLBPqvH"
      },
      "source": [
        "Bar chart for number of transactions by age group"
      ]
    },
    {
      "cell_type": "code",
      "execution_count": null,
      "metadata": {
        "id": "1CHj_7JlPqvH"
      },
      "outputs": [],
      "source": [
        "# Bar chart for number of transactions per age group\n",
        "plt.figure(figsize=(12, 6))\n",
        "sns.barplot(x='AgeGroup', y='TotalTransactions', data=age_group_stats, palette='viridis')\n",
        "plt.xlabel('Age Group')\n",
        "plt.ylabel('Number of Transactions')\n",
        "plt.title('Number of Transactions per Age Group')\n",
        "plt.show()\n",
        "\n",
        "# Bar chart for average transaction amount per age group\n",
        "plt.figure(figsize=(12, 6))\n",
        "sns.barplot(x='AgeGroup', y='AverageTransactionAmount', data=age_group_stats, palette='viridis')\n",
        "plt.xlabel('Age Group')\n",
        "plt.ylabel('Average Transaction Amount')\n",
        "plt.title('Average Transaction Amount per Age Group')\n",
        "plt.show()"
      ]
    },
    {
      "cell_type": "markdown",
      "metadata": {
        "id": "Mi7XQvJaPqvI"
      },
      "source": [
        "Seeing the relationship between age groups and number of transactions"
      ]
    },
    {
      "cell_type": "code",
      "execution_count": null,
      "metadata": {
        "id": "gl8le9mCPqvI"
      },
      "outputs": [],
      "source": [
        "# Scatter plot to show relationship between age and transaction amount\n",
        "plt.figure(figsize=(12, 6))\n",
        "sns.scatterplot(x='CustomerAge', y='TransactionAmount (INR)', data=df, hue='AgeGroup', palette='viridis')\n",
        "plt.xlabel('Customer Age')\n",
        "plt.ylabel('Transaction Amount (INR)')\n",
        "plt.title('Relationship between Customer Age and Transaction Amount')\n",
        "plt.show()"
      ]
    },
    {
      "cell_type": "markdown",
      "metadata": {
        "id": "gl66XWpkPqvJ"
      },
      "source": [
        "#### Conclusion:\n",
        "Age group <span style=\"color:red\">31-40 makes the most number of transactions</span>.\n",
        "However people of age group <span style=\"color:red\">71-80 make the most average amount of transactions</span> followed by people of age 0-20."
      ]
    },
    {
      "cell_type": "markdown",
      "metadata": {
        "id": "_iJ4HzW7PqvJ"
      },
      "source": [
        "## Geographic Transaction Analysis"
      ]
    },
    {
      "cell_type": "code",
      "execution_count": null,
      "metadata": {
        "id": "6xD-rTSsPqvJ"
      },
      "outputs": [],
      "source": [
        "locations = df['CustLocation'].unique()\n",
        "len(locations)"
      ]
    },
    {
      "cell_type": "markdown",
      "metadata": {
        "id": "ZqDU0gHEPqvK"
      },
      "source": [
        "After analyzing resources, I found the top 100 developed cities in India"
      ]
    },
    {
      "cell_type": "code",
      "execution_count": null,
      "metadata": {
        "id": "ULjA2hwWPqvK"
      },
      "outputs": [],
      "source": [
        "developed_cities = [\n",
        "    \"Mumbai\",\n",
        "    \"Delhi\",\n",
        "    \"Bangalore\",\n",
        "    \"Hyderabad\",\n",
        "    \"Chennai\",\n",
        "    \"Pune\",\n",
        "    \"Ahmedabad\",\n",
        "    \"Kolkata\",\n",
        "    \"Surat\",\n",
        "    \"Jaipur\",\n",
        "    \"Lucknow\",\n",
        "    \"Kanpur\",\n",
        "    \"Nagpur\",\n",
        "    \"Indore\",\n",
        "    \"Thane\",\n",
        "    \"Bhopal\",\n",
        "    \"Visakhapatnam\",\n",
        "    \"Pimpri-Chinchwad\",\n",
        "    \"Patna\",\n",
        "    \"Vadodara\",\n",
        "    \"Ghaziabad\",\n",
        "    \"Ludhiana\",\n",
        "    \"Agra\",\n",
        "    \"Nashik\",\n",
        "    \"Faridabad\",\n",
        "    \"Meerut\",\n",
        "    \"Rajkot\",\n",
        "    \"Kalyan-Dombivli\",\n",
        "    \"Vasai-Virar\",\n",
        "    \"Varanasi\",\n",
        "    \"Srinagar\",\n",
        "    \"Aurangabad\",\n",
        "    \"Dhanbad\",\n",
        "    \"Amritsar\",\n",
        "    \"Navi Mumbai\",\n",
        "    \"Allahabad\",\n",
        "    \"Ranchi\",\n",
        "    \"Howrah\",\n",
        "    \"Coimbatore\",\n",
        "    \"Jabalpur\",\n",
        "    \"Gwalior\",\n",
        "    \"Vijayawada\",\n",
        "    \"Jodhpur\",\n",
        "    \"Madurai\",\n",
        "    \"Raipur\",\n",
        "    \"Kota\",\n",
        "    \"Guwahati\",\n",
        "    \"Chandigarh\",\n",
        "    \"Solapur\",\n",
        "    \"Hubli-Dharwad\",\n",
        "    \"Bareilly\",\n",
        "    \"Mysore\",\n",
        "    \"Tiruchirappalli\",\n",
        "    \"Tiruppur\",\n",
        "    \"Moradabad\",\n",
        "    \"Salem\",\n",
        "    \"Aligarh\",\n",
        "    \"Thiruvananthapuram\",\n",
        "    \"Bhiwandi\",\n",
        "    \"Saharanpur\",\n",
        "    \"Gorakhpur\",\n",
        "    \"Guntur\",\n",
        "    \"Bikaner\",\n",
        "    \"Amravati\",\n",
        "    \"Noida\",\n",
        "    \"Jamshedpur\",\n",
        "    \"Bhilai\",\n",
        "    \"Cuttack\",\n",
        "    \"Firozabad\",\n",
        "    \"Kochi\",\n",
        "    \"Bhavnagar\",\n",
        "    \"Dehradun\",\n",
        "    \"Durgapur\",\n",
        "    \"Asansol\",\n",
        "    \"Nanded\",\n",
        "    \"Kolhapur\",\n",
        "    \"Ajmer\",\n",
        "    \"Gulbarga\",\n",
        "    \"Jamnagar\",\n",
        "    \"Ujjain\",\n",
        "    \"Loni\",\n",
        "    \"Siliguri\",\n",
        "    \"Jhansi\",\n",
        "    \"Ulhasnagar\",\n",
        "    \"Nellore\",\n",
        "    \"Jammu\",\n",
        "    \"Sangli-Miraj & Kupwad\",\n",
        "    \"Belgaum\",\n",
        "    \"Mangalore\",\n",
        "    \"Ambattur\",\n",
        "    \"Tirunelveli\",\n",
        "    \"Malegaon\",\n",
        "    \"Gaya\",\n",
        "    \"Jalgaon\",\n",
        "    \"Udaipur\",\n",
        "    \"Maheshtala\",\n",
        "    \"Davanagere\",\n",
        "    \"Kozhikode\",\n",
        "    \"Kurnool\",\n",
        "    \"Rajpur Sonarpur\",\n",
        "    \"Bokaro\",\n",
        "    \"South Dumdum\"\n",
        "]\n",
        "\n",
        "\n",
        "developed_cities = [city.upper() for city in developed_cities]"
      ]
    },
    {
      "cell_type": "code",
      "execution_count": null,
      "metadata": {
        "id": "fQV11X5YPqvL"
      },
      "outputs": [],
      "source": [
        "# Classify locations as developed or underdeveloped based on developed_cities array\n",
        "df['LocationType'] = df['CustLocation'].apply(lambda x: 'Developed' if x in developed_cities else 'Underdeveloped')\n",
        "df['TransactionAmount (INR)'] = df['TransactionAmount (INR)'].astype(np.float32)\n",
        "\n",
        "# Analyze transaction amounts and frequencies across locations\n",
        "location_stats = df.groupby(['CustLocation', 'LocationType']).agg(\n",
        "    TotalTransactions=('TransactionID', 'count'),\n",
        "    TotalTransactionAmount=('TransactionAmount (INR)', 'sum'),\n",
        "    AverageTransactionAmount=('TransactionAmount (INR)', 'mean')\n",
        ").reset_index()"
      ]
    },
    {
      "cell_type": "markdown",
      "metadata": {
        "id": "YQrEHjIEPqvM"
      },
      "source": [
        "Line plot to show seasonal trends (monthly) for developed and underdeveloped locations"
      ]
    },
    {
      "cell_type": "code",
      "execution_count": null,
      "metadata": {
        "id": "7ZxMdeHvPqvM"
      },
      "outputs": [],
      "source": [
        "df['TransactionDate'] = pd.to_datetime(df['TransactionDate'])\n",
        "# Line plot to show seasonal trends (monthly) for developed and underdeveloped locations\n",
        "df['Month'] = df['TransactionDate'].dt.to_period('M')\n",
        "\n",
        "# Line plot to show seasonal trends (monthly) for developed and underdeveloped locations\n",
        "seasonal_stats = df.groupby(['Month', 'LocationType']).agg(\n",
        "    MonthlyTransactionAmount=('TransactionAmount (INR)', 'sum'),\n",
        "    MonthlyTransactionCount=('TransactionID', 'count')\n",
        ").reset_index()\n",
        "\n",
        "# Convert the 'Month' column back to a string format for plotting\n",
        "seasonal_stats['Month'] = seasonal_stats['Month'].astype(str)\n",
        "\n",
        "# Plotting seasonal trends for transaction amounts\n",
        "plt.figure(figsize=(12, 6))\n",
        "sns.lineplot(x='Month', y='MonthlyTransactionAmount', hue='LocationType', data=seasonal_stats, marker='o', palette='viridis')\n",
        "plt.xlabel('Month')\n",
        "plt.ylabel('Monthly Transaction Amount')\n",
        "plt.title('Monthly Transaction Amount Trends by Location Type')\n",
        "plt.xticks(rotation=45)\n",
        "plt.show()"
      ]
    },
    {
      "cell_type": "markdown",
      "metadata": {
        "id": "pJqAM91EPqvM"
      },
      "source": [
        "### Conclusion:\n",
        "There are normally more transactions in Developed areas through out the year 2016. There is also a spike of transaction in 2016-8; Augest.<br>\n",
        "<span style=\"color:red\">Most Probably because of Independece Day of India; as also shown before that transaction increased on the holidays; Mainly Independce Day in Augest.</span>\n",
        "<br><br>\n",
        "What is interesting is that both transactions in Developed and Underdeveloped ares spiked because of Independence Day Holiday."
      ]
    },
    {
      "cell_type": "markdown",
      "metadata": {
        "id": "u_eafy2dPqvN"
      },
      "source": [
        "## Gender-Based Transaction Analysis:\n",
        "        Examine if there are differences in transaction behaviors between male and female customers. For instance, do one gender tend to spend more on average per transaction?"
      ]
    },
    {
      "cell_type": "code",
      "execution_count": null,
      "metadata": {
        "id": "IClfGz2JPqvN"
      },
      "outputs": [],
      "source": [
        "# Analyze transaction amounts and frequencies across genders\n",
        "gender_stats = df.groupby('CustGender').agg(\n",
        "    TotalTransactions=('TransactionID', 'count'),\n",
        "    TotalTransactionAmount=('TransactionAmount (INR)', 'sum'),\n",
        "    AverageTransactionAmount=('TransactionAmount (INR)', 'mean')\n",
        ").reset_index()"
      ]
    },
    {
      "cell_type": "markdown",
      "metadata": {
        "id": "TTaUhkGlPqvO"
      },
      "source": [
        "### Bar chart for total number of transactions per gender"
      ]
    },
    {
      "cell_type": "code",
      "execution_count": null,
      "metadata": {
        "id": "RqdAbcGnPqvO"
      },
      "outputs": [],
      "source": [
        "plt.figure(figsize=(12, 6))\n",
        "sns.barplot(x='CustGender', y='TotalTransactions', data=gender_stats, palette='viridis')\n",
        "plt.xlabel('Gender')\n",
        "plt.ylabel('Total Number of Transactions')\n",
        "plt.title('Total Number of Transactions by Gender')\n",
        "plt.show()"
      ]
    },
    {
      "cell_type": "markdown",
      "metadata": {
        "id": "Ee2BOr0jPqvP"
      },
      "source": [
        "### Bar chart for total transaction amount per gender"
      ]
    },
    {
      "cell_type": "code",
      "execution_count": null,
      "metadata": {
        "id": "uIwEyJ5qPqvQ"
      },
      "outputs": [],
      "source": [
        "plt.figure(figsize=(12, 6))\n",
        "sns.barplot(x='CustGender', y='TotalTransactionAmount', data=gender_stats, palette='viridis')\n",
        "plt.xlabel('Gender')\n",
        "plt.ylabel('Total Transaction Amount')\n",
        "plt.title('Total Transaction Amount by Gender')\n",
        "plt.show()"
      ]
    },
    {
      "cell_type": "markdown",
      "metadata": {
        "id": "ajqg_6AePqvQ"
      },
      "source": [
        "### Bar chart for average transaction amount per gender"
      ]
    },
    {
      "cell_type": "code",
      "execution_count": null,
      "metadata": {
        "id": "9bxrVLkHPqvR"
      },
      "outputs": [],
      "source": [
        "plt.figure(figsize=(12, 6))\n",
        "sns.barplot(x='CustGender', y='AverageTransactionAmount', data=gender_stats, palette='viridis')\n",
        "plt.xlabel('Gender')\n",
        "plt.ylabel('Average Transaction Amount')\n",
        "plt.title('Average Transaction Amount by Gender')\n",
        "plt.show()"
      ]
    },
    {
      "cell_type": "code",
      "execution_count": null,
      "metadata": {
        "id": "BJ_BQxWvPqvR"
      },
      "outputs": [],
      "source": [
        "gender_totals = df.groupby('CustGender')['TransactionAmount (INR)'].sum().reset_index()\n",
        "\n",
        "# Extract total amounts\n",
        "male_total = gender_totals.loc[gender_totals['CustGender'] == 'M', 'TransactionAmount (INR)'].values[0]\n",
        "female_total = gender_totals.loc[gender_totals['CustGender'] == 'F', 'TransactionAmount (INR)'].values[0]\n",
        "\n",
        "# Calculate the percentage difference\n",
        "percentage_difference = ((male_total - female_total) / female_total) * 100\n",
        "\n",
        "print(f\"Total spending by males: {male_total}\")\n",
        "print(f\"Total spending by females: {female_total}\")\n",
        "print(f\"Percentage difference: {percentage_difference:.2f}%\")"
      ]
    },
    {
      "cell_type": "markdown",
      "metadata": {
        "id": "iLdJQYcqPqvS"
      },
      "source": [
        "### Conclusion:<br>\n",
        "The Total Number and Amount of Transactions done by Male is <span style=\"color:red\">~154%</span> more than Female"
      ]
    },
    {
      "cell_type": "markdown",
      "metadata": {
        "id": "L4MKhh6cPqvS"
      },
      "source": [
        "## Account Balance Impact on Transaction Amounts"
      ]
    },
    {
      "cell_type": "markdown",
      "metadata": {
        "id": "b3KlTPzAPqvT"
      },
      "source": [
        "#### Scatter plot to show the relationship between account balance and transaction amount"
      ]
    },
    {
      "cell_type": "code",
      "execution_count": null,
      "metadata": {
        "id": "5BU5e40KPqvT"
      },
      "outputs": [],
      "source": [
        "plt.figure(figsize=(12, 6))\n",
        "sns.scatterplot(x='CustAccountBalance', y='TransactionAmount (INR)', data=df, hue='CustGender', palette='viridis')\n",
        "plt.xlabel('Customer Account Balance')\n",
        "plt.ylabel('Transaction Amount (INR)')\n",
        "plt.title('Relationship between Account Balance and Transaction Amount')\n",
        "plt.show()"
      ]
    },
    {
      "cell_type": "markdown",
      "metadata": {
        "id": "iE_OoKTyPqvU"
      },
      "source": [
        "Correlation between account balance and transaction amount"
      ]
    },
    {
      "cell_type": "code",
      "execution_count": null,
      "metadata": {
        "id": "B-KnLqh6PqvU"
      },
      "outputs": [],
      "source": [
        "\n",
        "correlation = df[['CustAccountBalance', 'TransactionAmount (INR)']].corr().iloc[0, 1]\n",
        "print(f\"Correlation between Customer Account Balance and Transaction Amount: {correlation:.2f}\")\n",
        "\n",
        "# To further analyze, we can use a regression plot\n",
        "plt.figure(figsize=(12, 6))\n",
        "sns.regplot(x='CustAccountBalance', y='TransactionAmount (INR)', data=df, scatter_kws={'s': 50}, line_kws={'color': 'red'})\n",
        "plt.xlabel('Customer Account Balance')\n",
        "plt.ylabel('Transaction Amount (INR)')\n",
        "plt.title('Regression Analysis of Account Balance and Transaction Amount')\n",
        "plt.show()"
      ]
    },
    {
      "cell_type": "markdown",
      "metadata": {
        "id": "3QS_KvlpPqvU"
      },
      "source": [
        "### Conclusion:\n",
        "<span style=\"color:red\">Weak Positive Correlation:</span> There is a very weak positive linear relationship between the account balance and transaction amount.<br> As the account balance increases, the transaction amount tends to increase slightly, but the relationship is very weak."
      ]
    },
    {
      "cell_type": "markdown",
      "metadata": {
        "id": "s93uYEPlPqvV"
      },
      "source": []
    },
    {
      "cell_type": "markdown",
      "metadata": {
        "id": "sZ2lcELHPqvV"
      },
      "source": [
        "<center>\n",
        "\n",
        "# Feature Engineering\n",
        "\n",
        "</center>"
      ]
    },
    {
      "cell_type": "markdown",
      "metadata": {
        "id": "lXL6fiKCPqvV"
      },
      "source": [
        "As we saw in the EDA above the relation between Customer age and Transaction amount, Customer Gender and Transcation amount, and Customer Account Balance and Transaction amount. We can create new features based on these relations.<br>\n",
        "\n",
        "Where we can perform Recency, Frequency, Monetary analysis on the dataset.\n",
        "and also perform clustering on the dataset to identify popular customer groups along with their definitions."
      ]
    },
    {
      "cell_type": "markdown",
      "metadata": {
        "id": "jZ2jNZYCPqvV"
      },
      "source": [
        "When drawing histogram for Number of Transactions grouped by Genders instead of 2 genders; Male and Female, it is showing three. The third one being 'T'"
      ]
    },
    {
      "cell_type": "code",
      "execution_count": null,
      "metadata": {
        "id": "MWR7pw86PqvW"
      },
      "outputs": [],
      "source": [
        "#Print the customer ID of the customer with Gender T\n",
        "#df[df['CustGender'] == 'T']['CustomerID'].values[0]"
      ]
    },
    {
      "cell_type": "code",
      "execution_count": null,
      "metadata": {
        "id": "gMHgrGOLPqvW"
      },
      "outputs": [],
      "source": [
        "df.drop(df[df['CustGender'] == 'T'].index, inplace=True)"
      ]
    },
    {
      "cell_type": "markdown",
      "metadata": {
        "id": "267YLc9oPqvX"
      },
      "source": [
        "As there are no other instance of 'T' in the dataset, so we are dropping that row."
      ]
    },
    {
      "cell_type": "markdown",
      "metadata": {
        "id": "lepbUUKaPqvX"
      },
      "source": [
        "There are customers with multiple transactions but different DOB. So we can assume that on the first transaction, the DOB was entered correctly and on the next transactions, it was entered incorrectly. So we can replace the DOB with the first DOB entered for that customer."
      ]
    },
    {
      "cell_type": "code",
      "execution_count": null,
      "metadata": {
        "id": "GqoAjsRRPqvX"
      },
      "outputs": [],
      "source": [
        "# Sort the DataFrame by CustomerID and TransactionDate\n",
        "df = df.sort_values(by=['CustomerID', 'TransactionDate'])\n",
        "df.head()"
      ]
    },
    {
      "cell_type": "code",
      "execution_count": null,
      "metadata": {
        "id": "dBuQLCUvPqvY"
      },
      "outputs": [],
      "source": [
        "\n",
        "\n",
        "# Group by CustomerID and get the first DOB for each customer\n",
        "first_dob = df.groupby('CustomerID')['CustomerDOB'].first().reset_index()\n",
        "\n",
        "# Merge the first DOB back to the original dataframe\n",
        "df = df.drop(columns=['CustomerDOB'])\n",
        "df = df.merge(first_dob, on='CustomerID', how='left')\n",
        "\n",
        "# Display the dataframe with the corrected DOBs\n",
        "print(df[['CustomerID', 'CustLocation', 'CustGender', 'CustAccountBalance', 'CustomerDOB',\n",
        "          'TransactionID', 'TransactionDate', 'TransactionTime', 'TransactionAmount (INR)']].head())"
      ]
    },
    {
      "cell_type": "markdown",
      "metadata": {
        "id": "AIy4McyhPqvZ"
      },
      "source": [
        "### Date time featuring:"
      ]
    },
    {
      "cell_type": "code",
      "execution_count": null,
      "metadata": {
        "id": "lbDqyAtFPqva"
      },
      "outputs": [],
      "source": [
        "df['TransactionDate'] = pd.to_datetime(df['TransactionDate'])\n",
        "\n",
        "df['DayOfWeek'] = df['TransactionDate'].dt.dayofweek\n",
        "\n",
        "\n",
        "# Convert TransactionTime to string and then to datetime format\n",
        "df['TransactionTime'] = df['TransactionTime'].astype(str).str.zfill(6)  # Ensure the time string has 6 characters\n",
        "df['TransactionTime'] = pd.to_datetime(df['TransactionTime'], format='%H%M%S').dt.time\n",
        "\n",
        "# Extract hour, minute, and second\n",
        "df['HourOfDay'] = df['TransactionTime'].apply(lambda x: x.hour)"
      ]
    },
    {
      "cell_type": "code",
      "execution_count": null,
      "metadata": {
        "id": "Zx18AkJnPqva"
      },
      "outputs": [],
      "source": [
        "df.head()"
      ]
    },
    {
      "cell_type": "markdown",
      "metadata": {
        "id": "0RkLdN47Pqvb"
      },
      "source": [
        "## Performing RFM on it"
      ]
    },
    {
      "cell_type": "code",
      "execution_count": null,
      "metadata": {
        "id": "VRo1cL93Pqvb"
      },
      "outputs": [],
      "source": [
        "df['TransactionDate1']=df['TransactionDate']\n",
        "df['TransactionDate2']=df['TransactionDate']"
      ]
    },
    {
      "cell_type": "code",
      "execution_count": null,
      "metadata": {
        "id": "rKE41fR2Pqvb"
      },
      "outputs": [],
      "source": [
        "MRF_df = df.groupby(\"CustomerID\").agg({\n",
        "                                        \"TransactionID\" : \"count\",\n",
        "                                        \"CustGender\" : \"first\",\n",
        "                                        \"CustLocation\":\"first\",\n",
        "                                        \"CustAccountBalance\"  : \"mean\",\n",
        "                                        \"TransactionAmount (INR)\" : \"mean\",\n",
        "                                        \"CustomerAge\" : \"median\",\n",
        "                                        \"TransactionDate2\":\"max\",\n",
        "                                        \"TransactionDate1\":\"min\",\n",
        "                                        \"TransactionDate\":\"median\"\n",
        "                        })\n",
        "\n",
        "MRF_df = MRF_df.reset_index()\n",
        "MRF_df.head()"
      ]
    },
    {
      "cell_type": "code",
      "execution_count": null,
      "metadata": {
        "id": "0lI59msgPqvb"
      },
      "outputs": [],
      "source": [
        "MRF_df.drop(columns=[\"CustomerID\"],inplace=True)\n"
      ]
    },
    {
      "cell_type": "code",
      "execution_count": null,
      "metadata": {
        "id": "0FkKD5f7Pqvc"
      },
      "outputs": [],
      "source": [
        "\n",
        "MRF_df.rename(columns={\"TransactionID\":\"Frequency\"},inplace=True)\n",
        "\n",
        "MRF_df['Recency']=MRF_df['TransactionDate2']-MRF_df['TransactionDate1']\n",
        "MRF_df['Recency']=MRF_df['Recency'].astype(str)\n",
        "x='20 day'\n",
        "re.search('\\d+',x).group()"
      ]
    },
    {
      "cell_type": "code",
      "execution_count": null,
      "metadata": {
        "id": "pQyrgc4gPqvd"
      },
      "outputs": [],
      "source": [
        "MRF_df['Recency']=MRF_df['Recency'].apply(lambda x :re.search('\\d+',x).group())\n",
        "MRF_df['Recency']=MRF_df['Recency'].astype(int)"
      ]
    },
    {
      "cell_type": "code",
      "execution_count": null,
      "metadata": {
        "id": "midUeK4hPqvd"
      },
      "outputs": [],
      "source": [
        "def rep_0(i):\n",
        "    if i==0:\n",
        "        return 1\n",
        "    else:\n",
        "        return i"
      ]
    },
    {
      "cell_type": "code",
      "execution_count": null,
      "metadata": {
        "id": "PqqyW-jHPqvd"
      },
      "outputs": [],
      "source": [
        "MRF_df['Recency']=MRF_df['Recency'].apply(rep_0)\n",
        "MRF_df.drop(columns=[\"TransactionDate1\",\"TransactionDate2\"],inplace=True)"
      ]
    },
    {
      "cell_type": "code",
      "execution_count": null,
      "metadata": {
        "id": "6W9DPHxXPqve"
      },
      "outputs": [],
      "source": [
        "lower_list=[]\n",
        "upper_list=[]\n",
        "num_list=[]\n",
        "perc_list=[]\n",
        "cols=['Frequency', 'CustAccountBalance','TransactionAmount (INR)', 'CustomerAge', 'Recency']\n",
        "\n",
        "\n",
        "for i in cols:\n",
        "    Q1 = MRF_df[i].quantile(0.25)\n",
        "    Q3 = MRF_df[i].quantile(0.75)\n",
        "    IQR = Q3 - Q1\n",
        "    lower = Q1 - 1.5 * IQR\n",
        "    upper = Q3 + 1.5 * IQR\n",
        "    # calculate number of outliers\n",
        "    num=MRF_df[(MRF_df[i] < lower) | (MRF_df[i] > upper)].shape[0]\n",
        "    # calculate percentage of outliers\n",
        "    perc = (num / MRF_df.shape[0]) * 100\n",
        "    lower_list.append(lower)\n",
        "    upper_list.append(upper)\n",
        "    num_list.append(num)\n",
        "    perc_list.append(round(perc,2))\n",
        "\n",
        "\n",
        "dic={'lower': lower_list, 'upper': upper_list, 'outliers': num_list, 'Perc%':perc_list }\n",
        "outliers_df=pd.DataFrame(dic,index=['Frequency', 'CustAccountBalance','TransactionAmount (INR)', 'CustomerAge', 'Recency'])\n",
        "outliers_df"
      ]
    },
    {
      "cell_type": "code",
      "execution_count": null,
      "metadata": {
        "id": "Nl6jUtMXPqve"
      },
      "outputs": [],
      "source": [
        "MRF_df=MRF_df.reset_index(drop=True)\n",
        "MRF_df.head()"
      ]
    },
    {
      "cell_type": "markdown",
      "metadata": {
        "id": "U6SeKTqOPqvf"
      },
      "source": [
        "Dropping the columns that are not needed and converting the columns to int which are possible"
      ]
    },
    {
      "cell_type": "code",
      "execution_count": null,
      "metadata": {
        "id": "nGLQkrdOPqvf"
      },
      "outputs": [],
      "source": [
        "MRF_df.drop(columns=['CustLocation','TransactionDate'],inplace=True)\n",
        "\n",
        "MRF_df['CustGender']=MRF_df['CustGender'].map({'M':1,'F':0})"
      ]
    },
    {
      "cell_type": "markdown",
      "metadata": {
        "id": "vIE6DqVYPqvf"
      },
      "source": [
        "Scalling the data"
      ]
    },
    {
      "cell_type": "code",
      "execution_count": null,
      "metadata": {
        "id": "yUWhvsP7Pqvg"
      },
      "outputs": [],
      "source": [
        "df_scaled=StandardScaler().fit_transform(MRF_df)\n",
        "df_scaled=pd.DataFrame(df_scaled,columns=MRF_df.columns)\n",
        "df_scaled.head()"
      ]
    },
    {
      "cell_type": "code",
      "execution_count": null,
      "metadata": {
        "id": "Zo-Vehm3Pqvh"
      },
      "outputs": [],
      "source": [
        "# the Data is too large so we will only use 100000 samples\n",
        "df_scaled=df_scaled.sample(n=100000,random_state=42).reset_index(drop=True)\n",
        "df_scaled.head()"
      ]
    },
    {
      "cell_type": "markdown",
      "metadata": {
        "id": "Mu5ajMtLPqvi"
      },
      "source": [
        "<center>\n",
        "\n",
        "# Modeling\n",
        "\n",
        "</center>"
      ]
    },
    {
      "cell_type": "markdown",
      "metadata": {
        "id": "fos1gYQPPqvi"
      },
      "source": [
        "Options for modeling are:\n",
        "1. KMeans\n",
        "2. DBSCAN\n",
        "3. Agglomerative Clustering\n",
        "\n",
        "## KMeans Clustering\n",
        "        Elbow Method to find the optimal number of clusters\n",
        "        Silhouette Score to find the optimal number of clusters\n",
        "\n",
        "## DBSCAN Clustering\n",
        "        Finding the optimal eps and min_samples for DBSCAN\n",
        "\n",
        "## Agglomerative Clustering\n",
        "        Dendrogram to find the optimal number of clusters\n"
      ]
    },
    {
      "cell_type": "markdown",
      "metadata": {
        "id": "UXt-kNB5Pqvj"
      },
      "source": [
        "## K Means"
      ]
    },
    {
      "cell_type": "code",
      "execution_count": null,
      "metadata": {
        "id": "qu8yS9UqPqvj"
      },
      "outputs": [],
      "source": [
        "from sklearn.cluster import MiniBatchKMeans"
      ]
    },
    {
      "cell_type": "code",
      "execution_count": 54,
      "metadata": {
        "colab": {
          "base_uri": "https://localhost:8080/"
        },
        "id": "UIfEc3-bPqvk",
        "outputId": "d375bd12-324e-4570-aea6-fee71f559fc8"
      },
      "outputs": [
        {
          "name": "stderr",
          "output_type": "stream",
          "text": [
            "/usr/local/lib/python3.10/dist-packages/sklearn/cluster/_kmeans.py:1934: FutureWarning: The default value of `n_init` will change from 3 to 'auto' in 1.4. Set the value of `n_init` explicitly to suppress the warning\n",
            "  super()._check_params_vs_input(X, default_n_init=3)\n",
            "/usr/local/lib/python3.10/dist-packages/sklearn/cluster/_kmeans.py:1934: FutureWarning: The default value of `n_init` will change from 3 to 'auto' in 1.4. Set the value of `n_init` explicitly to suppress the warning\n",
            "  super()._check_params_vs_input(X, default_n_init=3)\n",
            "/usr/local/lib/python3.10/dist-packages/sklearn/cluster/_kmeans.py:1934: FutureWarning: The default value of `n_init` will change from 3 to 'auto' in 1.4. Set the value of `n_init` explicitly to suppress the warning\n",
            "  super()._check_params_vs_input(X, default_n_init=3)\n",
            "/usr/local/lib/python3.10/dist-packages/sklearn/cluster/_kmeans.py:1934: FutureWarning: The default value of `n_init` will change from 3 to 'auto' in 1.4. Set the value of `n_init` explicitly to suppress the warning\n",
            "  super()._check_params_vs_input(X, default_n_init=3)\n",
            "/usr/local/lib/python3.10/dist-packages/sklearn/cluster/_kmeans.py:1934: FutureWarning: The default value of `n_init` will change from 3 to 'auto' in 1.4. Set the value of `n_init` explicitly to suppress the warning\n",
            "  super()._check_params_vs_input(X, default_n_init=3)\n",
            "/usr/local/lib/python3.10/dist-packages/sklearn/cluster/_kmeans.py:1934: FutureWarning: The default value of `n_init` will change from 3 to 'auto' in 1.4. Set the value of `n_init` explicitly to suppress the warning\n",
            "  super()._check_params_vs_input(X, default_n_init=3)\n",
            "/usr/local/lib/python3.10/dist-packages/sklearn/cluster/_kmeans.py:1934: FutureWarning: The default value of `n_init` will change from 3 to 'auto' in 1.4. Set the value of `n_init` explicitly to suppress the warning\n",
            "  super()._check_params_vs_input(X, default_n_init=3)\n",
            "/usr/local/lib/python3.10/dist-packages/sklearn/cluster/_kmeans.py:1934: FutureWarning: The default value of `n_init` will change from 3 to 'auto' in 1.4. Set the value of `n_init` explicitly to suppress the warning\n",
            "  super()._check_params_vs_input(X, default_n_init=3)\n",
            "/usr/local/lib/python3.10/dist-packages/sklearn/cluster/_kmeans.py:1934: FutureWarning: The default value of `n_init` will change from 3 to 'auto' in 1.4. Set the value of `n_init` explicitly to suppress the warning\n",
            "  super()._check_params_vs_input(X, default_n_init=3)\n"
          ]
        }
      ],
      "source": [
        "# Kmeans algorithm settings\n",
        "kmeans_set = {\"init\": \"random\", \"max_iter\": 200, \"random_state\": 42}\n",
        "\n",
        "inertias = []\n",
        "silhouette_coefficients = []\n",
        "\n",
        "for k in range(2, 11):\n",
        "    kmeans = MiniBatchKMeans(n_clusters=k, **kmeans_set)\n",
        "    kmeans.fit(df_scaled)\n",
        "    inertias.append(kmeans.inertia_)\n",
        "    score = silhouette_score(df_scaled, kmeans.labels_)\n",
        "    silhouette_coefficients.append(score)"
      ]
    },
    {
      "cell_type": "code",
      "execution_count": 55,
      "metadata": {
        "colab": {
          "base_uri": "https://localhost:8080/",
          "height": 197
        },
        "id": "q3RZenbxPqvl",
        "outputId": "6a824f8e-4fc4-4a7d-91d6-1b92d21b6cb0"
      },
      "outputs": [
        {
          "data": {
            "image/png": "[encoded data removed]",
            "text/plain": [
              "<Figure size 2000x500 with 2 Axes>"
            ]
          },
          "metadata": {},
          "output_type": "display_data"
        }
      ],
      "source": [
        "plt.style.use(\"fivethirtyeight\")\n",
        "fig,ax=plt.subplots(1,2,figsize=(20,5))\n",
        "kl = KneeLocator(range(2,11), inertias, curve='convex', direction=\"decreasing\")\n",
        "ax[0].plot(range(2,11), inertias,color='purple',marker='o',label='Elbow Method')\n",
        "ax[0].set_xticks(range(2,11))\n",
        "ax[0].set_xlabel(\"Number of Clusters\", labelpad=20)\n",
        "ax[0].set_ylabel(\"Inertia\", labelpad=20)\n",
        "ax[0].set_title(\"Elbow Method\")\n",
        "ax[0].axvline(x=kl.elbow, color='black', label='axvline-fullheight', ls='--', linewidth=3)\n",
        "\n",
        "ax[1].plot(range(2,11), silhouette_coefficients,color='purple',marker='o',label='silhouette coefficients')\n",
        "ax[1].set_xticks(range(2,11))\n",
        "ax[1].set_title(\"silhouette values\")\n",
        "ax[1].set_xlabel(\"Number of clusters\")\n",
        "ax[1].set_ylabel(\"silhouette_coefficients\")\n",
        "plt.tight_layout();"
      ]
    },
    {
      "cell_type": "markdown",
      "metadata": {
        "id": "vApm_gNOPqvm"
      },
      "source": [
        "It shows that there are 5 clusters in the dataset"
      ]
    },
    {
      "cell_type": "code",
      "execution_count": 56,
      "metadata": {
        "colab": {
          "base_uri": "https://localhost:8080/",
          "height": 279
        },
        "id": "m2v_Tm_vPqvm",
        "outputId": "21dca319-e941-45d0-d9cc-246565ecce10"
      },
      "outputs": [
        {
          "name": "stderr",
          "output_type": "stream",
          "text": [
            "/usr/local/lib/python3.10/dist-packages/sklearn/cluster/_kmeans.py:1416: FutureWarning: The default value of `n_init` will change from 10 to 'auto' in 1.4. Set the value of `n_init` explicitly to suppress the warning\n",
            "  super()._check_params_vs_input(X, default_n_init=10)\n"
          ]
        },
        {
          "data": {
            "application/vnd.google.colaboratory.intrinsic+json": {
              "summary": "{\n  \"name\": \"df_scaled\",\n  \"rows\": 100000,\n  \"fields\": [\n    {\n      \"column\": \"Frequency\",\n      \"properties\": {\n        \"dtype\": \"number\",\n        \"std\": 0.997909804984465,\n        \"min\": -0.4005414958379192,\n        \"max\": 11.090311235925993,\n        \"num_unique_values\": 6,\n        \"samples\": [\n          -0.4005414958379192,\n          1.897629050514863,\n          11.090311235925993\n        ],\n        \"semantic_type\": \"\",\n        \"description\": \"\"\n      }\n    },\n    {\n      \"column\": \"CustGender\",\n      \"properties\": {\n        \"dtype\": \"number\",\n        \"std\": 1.0011164188772528,\n        \"min\": -1.6153062982557376,\n        \"max\": 0.6190776331893424,\n        \"num_unique_values\": 2,\n        \"samples\": [\n          -1.6153062982557376,\n          0.6190776331893424\n        ],\n        \"semantic_type\": \"\",\n        \"description\": \"\"\n      }\n    },\n    {\n      \"column\": \"CustAccountBalance\",\n      \"properties\": {\n        \"dtype\": \"number\",\n        \"std\": 0.8964918813157687,\n        \"min\": -0.13463184057557326,\n        \"max\": 104.46877923311237,\n        \"num_unique_values\": 67129,\n        \"samples\": [\n          -0.11793120032499806,\n          -0.08996376366158246\n        ],\n        \"semantic_type\": \"\",\n        \"description\": \"\"\n      }\n    },\n    {\n      \"column\": \"TransactionAmount (INR)\",\n      \"properties\": {\n        \"dtype\": \"number\",\n        \"std\": 0.8864677082733132,\n        \"min\": -0.24045929238330807,\n        \"max\": 75.04609789675757,\n        \"num_unique_values\": 20800,\n        \"samples\": [\n          3.6697529997865104,\n          -0.1195919660006945\n        ],\n        \"semantic_type\": \"\",\n        \"description\": \"\"\n      }\n    },\n    {\n      \"column\": \"CustomerAge\",\n      \"properties\": {\n        \"dtype\": \"number\",\n        \"std\": 0.9957519677153799,\n        \"min\": -4.409066970668381,\n        \"max\": 7.149230743887967,\n        \"num_unique_values\": 136,\n        \"samples\": [\n          4.646918867540717,\n          -2.145070511116107\n        ],\n        \"semantic_type\": \"\",\n        \"description\": \"\"\n      }\n    },\n    {\n      \"column\": \"Recency\",\n      \"properties\": {\n        \"dtype\": \"number\",\n        \"std\": 0.9960880758126945,\n        \"min\": -0.3103572140503969,\n        \"max\": 7.046604064557828,\n        \"num_unique_values\": 250,\n        \"samples\": [\n          2.2371278854079737,\n          -0.20055182183236372\n        ],\n        \"semantic_type\": \"\",\n        \"description\": \"\"\n      }\n    },\n    {\n      \"column\": \"Label\",\n      \"properties\": {\n        \"dtype\": \"int32\",\n        \"num_unique_values\": 5,\n        \"samples\": [\n          1,\n          3\n        ],\n        \"semantic_type\": \"\",\n        \"description\": \"\"\n      }\n    }\n  ]\n}",
              "type": "dataframe",
              "variable_name": "df_scaled"
            },
            "text/html": [
              "\n",
              "  <div id=\"df-1dc65ccc-2c58-4c2d-9d78-9b399aa877bd\" class=\"colab-df-container\">\n",
              "    <div>\n",
              "<style scoped>\n",
              "    .dataframe tbody tr th:only-of-type {\n",
              "        vertical-align: middle;\n",
              "    }\n",
              "\n",
              "    .dataframe tbody tr th {\n",
              "        vertical-align: top;\n",
              "    }\n",
              "\n",
              "    .dataframe thead th {\n",
              "        text-align: right;\n",
              "    }\n",
              "</style>\n",
              "<table border=\"1\" class=\"dataframe\">\n",
              "  <thead>\n",
              "    <tr style=\"text-align: right;\">\n",
              "      <th></th>\n",
              "      <th>Frequency</th>\n",
              "      <th>CustGender</th>\n",
              "      <th>CustAccountBalance</th>\n",
              "      <th>TransactionAmount (INR)</th>\n",
              "      <th>CustomerAge</th>\n",
              "      <th>Recency</th>\n",
              "      <th>Label</th>\n",
              "    </tr>\n",
              "  </thead>\n",
              "  <tbody>\n",
              "    <tr>\n",
              "      <th>0</th>\n",
              "      <td>-0.400541</td>\n",
              "      <td>0.619078</td>\n",
              "      <td>-0.100958</td>\n",
              "      <td>-0.238805</td>\n",
              "      <td>-0.834336</td>\n",
              "      <td>-0.310357</td>\n",
              "      <td>2</td>\n",
              "    </tr>\n",
              "    <tr>\n",
              "      <th>1</th>\n",
              "      <td>-0.400541</td>\n",
              "      <td>0.619078</td>\n",
              "      <td>-0.121610</td>\n",
              "      <td>-0.140066</td>\n",
              "      <td>-0.119389</td>\n",
              "      <td>-0.310357</td>\n",
              "      <td>2</td>\n",
              "    </tr>\n",
              "    <tr>\n",
              "      <th>2</th>\n",
              "      <td>-0.400541</td>\n",
              "      <td>-1.615306</td>\n",
              "      <td>0.113488</td>\n",
              "      <td>-0.108123</td>\n",
              "      <td>0.595557</td>\n",
              "      <td>-0.310357</td>\n",
              "      <td>1</td>\n",
              "    </tr>\n",
              "    <tr>\n",
              "      <th>3</th>\n",
              "      <td>-0.400541</td>\n",
              "      <td>0.619078</td>\n",
              "      <td>-0.096452</td>\n",
              "      <td>-0.211014</td>\n",
              "      <td>-0.357705</td>\n",
              "      <td>-0.310357</td>\n",
              "      <td>2</td>\n",
              "    </tr>\n",
              "    <tr>\n",
              "      <th>4</th>\n",
              "      <td>-0.400541</td>\n",
              "      <td>0.619078</td>\n",
              "      <td>-0.129578</td>\n",
              "      <td>-0.223917</td>\n",
              "      <td>-0.119389</td>\n",
              "      <td>-0.310357</td>\n",
              "      <td>2</td>\n",
              "    </tr>\n",
              "  </tbody>\n",
              "</table>\n",
              "</div>\n",
              "    <div class=\"colab-df-buttons\">\n",
              "\n",
              "  <div class=\"colab-df-container\">\n",
              "    <button class=\"colab-df-convert\" onclick=\"convertToInteractive('df-1dc65ccc-2c58-4c2d-9d78-9b399aa877bd')\"\n",
              "            title=\"Convert this dataframe to an interactive table.\"\n",
              "            style=\"display:none;\">\n",
              "\n",
              "  <svg xmlns=\"http://www.w3.org/2000/svg\" height=\"24px\" viewBox=\"0 -960 960 960\">\n",
              "    <path d=\"M120-120v-720h720v720H120Zm60-500h600v-160H180v160Zm220 220h160v-160H400v160Zm0 220h160v-160H400v160ZM180-400h160v-160H180v160Zm440 0h160v-160H620v160ZM180-180h160v-160H180v160Zm440 0h160v-160H620v160Z\"/>\n",
              "  </svg>\n",
              "    </button>\n",
              "\n",
              "  <style>\n",
              "    .colab-df-container {\n",
              "      display:flex;\n",
              "      gap: 12px;\n",
              "    }\n",
              "\n",
              "    .colab-df-convert {\n",
              "      background-color: #E8F0FE;\n",
              "      border: none;\n",
              "      border-radius: 50%;\n",
              "      cursor: pointer;\n",
              "      display: none;\n",
              "      fill: #1967D2;\n",
              "      height: 32px;\n",
              "      padding: 0 0 0 0;\n",
              "      width: 32px;\n",
              "    }\n",
              "\n",
              "    .colab-df-convert:hover {\n",
              "      background-color: #E2EBFA;\n",
              "      box-shadow: 0px 1px 2px rgba(60, 64, 67, 0.3), 0px 1px 3px 1px rgba(60, 64, 67, 0.15);\n",
              "      fill: #174EA6;\n",
              "    }\n",
              "\n",
              "    .colab-df-buttons div {\n",
              "      margin-bottom: 4px;\n",
              "    }\n",
              "\n",
              "    [theme=dark] .colab-df-convert {\n",
              "      background-color: #3B4455;\n",
              "      fill: #D2E3FC;\n",
              "    }\n",
              "\n",
              "    [theme=dark] .colab-df-convert:hover {\n",
              "      background-color: #434B5C;\n",
              "      box-shadow: 0px 1px 3px 1px rgba(0, 0, 0, 0.15);\n",
              "      filter: drop-shadow(0px 1px 2px rgba(0, 0, 0, 0.3));\n",
              "      fill: #FFFFFF;\n",
              "    }\n",
              "  </style>\n",
              "\n",
              "    <script>\n",
              "      const buttonEl =\n",
              "        document.querySelector('#df-1dc65ccc-2c58-4c2d-9d78-9b399aa877bd button.colab-df-convert');\n",
              "      buttonEl.style.display =\n",
              "        google.colab.kernel.accessAllowed ? 'block' : 'none';\n",
              "\n",
              "      async function convertToInteractive(key) {\n",
              "        const element = document.querySelector('#df-1dc65ccc-2c58-4c2d-9d78-9b399aa877bd');\n",
              "        const dataTable =\n",
              "          await google.colab.kernel.invokeFunction('convertToInteractive',\n",
              "                                                    [key], {});\n",
              "        if (!dataTable) return;\n",
              "\n",
              "        const docLinkHtml = 'Like what you see? Visit the ' +\n",
              "          '<a target=\"_blank\" href=https://colab.research.google.com/notebooks/data_table.ipynb>data table notebook</a>'\n",
              "          + ' to learn more about interactive tables.';\n",
              "        element.innerHTML = '';\n",
              "        dataTable['output_type'] = 'display_data';\n",
              "        await google.colab.output.renderOutput(dataTable, element);\n",
              "        const docLink = document.createElement('div');\n",
              "        docLink.innerHTML = docLinkHtml;\n",
              "        element.appendChild(docLink);\n",
              "      }\n",
              "    </script>\n",
              "  </div>\n",
              "\n",
              "\n",
              "<div id=\"df-f8c37ec0-22bb-42eb-9909-d0da03feaf3d\">\n",
              "  <button class=\"colab-df-quickchart\" onclick=\"quickchart('df-f8c37ec0-22bb-42eb-9909-d0da03feaf3d')\"\n",
              "            title=\"Suggest charts\"\n",
              "            style=\"display:none;\">\n",
              "\n",
              "<svg xmlns=\"http://www.w3.org/2000/svg\" height=\"24px\"viewBox=\"0 0 24 24\"\n",
              "     width=\"24px\">\n",
              "    <g>\n",
              "        <path d=\"M19 3H5c-1.1 0-2 .9-2 2v14c0 1.1.9 2 2 2h14c1.1 0 2-.9 2-2V5c0-1.1-.9-2-2-2zM9 17H7v-7h2v7zm4 0h-2V7h2v10zm4 0h-2v-4h2v4z\"/>\n",
              "    </g>\n",
              "</svg>\n",
              "  </button>\n",
              "\n",
              "<style>\n",
              "  .colab-df-quickchart {\n",
              "      --bg-color: #E8F0FE;\n",
              "      --fill-color: #1967D2;\n",
              "      --hover-bg-color: #E2EBFA;\n",
              "      --hover-fill-color: #174EA6;\n",
              "      --disabled-fill-color: #AAA;\n",
              "      --disabled-bg-color: #DDD;\n",
              "  }\n",
              "\n",
              "  [theme=dark] .colab-df-quickchart {\n",
              "      --bg-color: #3B4455;\n",
              "      --fill-color: #D2E3FC;\n",
              "      --hover-bg-color: #434B5C;\n",
              "      --hover-fill-color: #FFFFFF;\n",
              "      --disabled-bg-color: #3B4455;\n",
              "      --disabled-fill-color: #666;\n",
              "  }\n",
              "\n",
              "  .colab-df-quickchart {\n",
              "    background-color: var(--bg-color);\n",
              "    border: none;\n",
              "    border-radius: 50%;\n",
              "    cursor: pointer;\n",
              "    display: none;\n",
              "    fill: var(--fill-color);\n",
              "    height: 32px;\n",
              "    padding: 0;\n",
              "    width: 32px;\n",
              "  }\n",
              "\n",
              "  .colab-df-quickchart:hover {\n",
              "    background-color: var(--hover-bg-color);\n",
              "    box-shadow: 0 1px 2px rgba(60, 64, 67, 0.3), 0 1px 3px 1px rgba(60, 64, 67, 0.15);\n",
              "    fill: var(--button-hover-fill-color);\n",
              "  }\n",
              "\n",
              "  .colab-df-quickchart-complete:disabled,\n",
              "  .colab-df-quickchart-complete:disabled:hover {\n",
              "    background-color: var(--disabled-bg-color);\n",
              "    fill: var(--disabled-fill-color);\n",
              "    box-shadow: none;\n",
              "  }\n",
              "\n",
              "  .colab-df-spinner {\n",
              "    border: 2px solid var(--fill-color);\n",
              "    border-color: transparent;\n",
              "    border-bottom-color: var(--fill-color);\n",
              "    animation:\n",
              "      spin 1s steps(1) infinite;\n",
              "  }\n",
              "\n",
              "  @keyframes spin {\n",
              "    0% {\n",
              "      border-color: transparent;\n",
              "      border-bottom-color: var(--fill-color);\n",
              "      border-left-color: var(--fill-color);\n",
              "    }\n",
              "    20% {\n",
              "      border-color: transparent;\n",
              "      border-left-color: var(--fill-color);\n",
              "      border-top-color: var(--fill-color);\n",
              "    }\n",
              "    30% {\n",
              "      border-color: transparent;\n",
              "      border-left-color: var(--fill-color);\n",
              "      border-top-color: var(--fill-color);\n",
              "      border-right-color: var(--fill-color);\n",
              "    }\n",
              "    40% {\n",
              "      border-color: transparent;\n",
              "      border-right-color: var(--fill-color);\n",
              "      border-top-color: var(--fill-color);\n",
              "    }\n",
              "    60% {\n",
              "      border-color: transparent;\n",
              "      border-right-color: var(--fill-color);\n",
              "    }\n",
              "    80% {\n",
              "      border-color: transparent;\n",
              "      border-right-color: var(--fill-color);\n",
              "      border-bottom-color: var(--fill-color);\n",
              "    }\n",
              "    90% {\n",
              "      border-color: transparent;\n",
              "      border-bottom-color: var(--fill-color);\n",
              "    }\n",
              "  }\n",
              "</style>\n",
              "\n",
              "  <script>\n",
              "    async function quickchart(key) {\n",
              "      const quickchartButtonEl =\n",
              "        document.querySelector('#' + key + ' button');\n",
              "      quickchartButtonEl.disabled = true;  // To prevent multiple clicks.\n",
              "      quickchartButtonEl.classList.add('colab-df-spinner');\n",
              "      try {\n",
              "        const charts = await google.colab.kernel.invokeFunction(\n",
              "            'suggestCharts', [key], {});\n",
              "      } catch (error) {\n",
              "        console.error('Error during call to suggestCharts:', error);\n",
              "      }\n",
              "      quickchartButtonEl.classList.remove('colab-df-spinner');\n",
              "      quickchartButtonEl.classList.add('colab-df-quickchart-complete');\n",
              "    }\n",
              "    (() => {\n",
              "      let quickchartButtonEl =\n",
              "        document.querySelector('#df-f8c37ec0-22bb-42eb-9909-d0da03feaf3d button');\n",
              "      quickchartButtonEl.style.display =\n",
              "        google.colab.kernel.accessAllowed ? 'block' : 'none';\n",
              "    })();\n",
              "  </script>\n",
              "</div>\n",
              "\n",
              "    </div>\n",
              "  </div>\n"
            ],
            "text/plain": [
              "   Frequency  CustGender  CustAccountBalance  TransactionAmount (INR)  \\\n",
              "0  -0.400541    0.619078           -0.100958                -0.238805   \n",
              "1  -0.400541    0.619078           -0.121610                -0.140066   \n",
              "2  -0.400541   -1.615306            0.113488                -0.108123   \n",
              "3  -0.400541    0.619078           -0.096452                -0.211014   \n",
              "4  -0.400541    0.619078           -0.129578                -0.223917   \n",
              "\n",
              "   CustomerAge   Recency  Label  \n",
              "0    -0.834336 -0.310357      2  \n",
              "1    -0.119389 -0.310357      2  \n",
              "2     0.595557 -0.310357      1  \n",
              "3    -0.357705 -0.310357      2  \n",
              "4    -0.119389 -0.310357      2  "
            ]
          },
          "execution_count": 56,
          "metadata": {},
          "output_type": "execute_result"
        }
      ],
      "source": [
        "kmeans = KMeans(n_clusters=5 , **kmeans_set)\n",
        "kmeans.fit(df_scaled)\n",
        "df_scaled['Label']=kmeans.labels_\n",
        "df_scaled.head()"
      ]
    },
    {
      "cell_type": "code",
      "execution_count": 58,
      "metadata": {
        "colab": {
          "base_uri": "https://localhost:8080/",
          "height": 542
        },
        "id": "WVg4ePmcPqvn",
        "outputId": "730bb6c2-e989-4322-aad4-f9c9738e92ad"
      },
      "outputs": [
        {
          "data": {
            "text/html": [
              "<html>\n",
              "<head><meta charset=\"utf-8\" /></head>\n",
              "<body>\n",
              "    <div>            <script src=\"https://cdnjs.cloudflare.com/ajax/libs/mathjax/2.7.5/MathJax.js?config=TeX-AMS-MML_SVG\"></script><script type=\"text/javascript\">if (window.MathJax && window.MathJax.Hub && window.MathJax.Hub.Config) {window.MathJax.Hub.Config({SVG: {font: \"STIX-Web\"}});}</script>                <script type=\"text/javascript\">window.PlotlyConfig = {MathJaxConfig: 'local'};</script>\n",
              "        <script charset=\"utf-8\" src=\"https://cdn.plot.ly/plotly-2.24.1.min.js\"></script>                <div id=\"b0f3cda6-8b02-4b58-b0bb-8654b037301a\" class=\"plotly-graph-div\" style=\"height:525px; width:100%;\"></div>            <script type=\"text/javascript\">                                    window.PLOTLYENV=window.PLOTLYENV || {};                                    if (document.getElementById(\"b0f3cda6-8b02-4b58-b0bb-8654b037301a\")) {                    Plotly.newPlot(                        \"b0f3cda6-8b02-4b58-b0bb-8654b037301a\",                        [{\"fill\":\"toself\",\"fillcolor\":\"purple\",\"name\":\"Cluster 1\",\"opacity\":0.4,\"r\":[2.3373943754554305,0.06576538077511435,-0.017674030527977183,-0.01810641413245298,-0.043388671184738915,2.4695763036674876],\"theta\":[\"Frequency\",\"CustGender\",\"CustAccountBalance\",\"TransactionAmount (INR)\",\"CustomerAge\",\"Recency\"],\"type\":\"scatterpolar\"},{\"fill\":\"toself\",\"fillcolor\":\"yellow\",\"name\":\"Cluster 2\",\"opacity\":0.4,\"r\":[-0.2414183271618007,-1.615306298255738,-0.03726244067362922,-0.029304705590352382,-0.2841759228647893,-0.2822049956221925],\"theta\":[\"Frequency\",\"CustGender\",\"CustAccountBalance\",\"TransactionAmount (INR)\",\"CustomerAge\",\"Recency\"],\"type\":\"scatterpolar\"},{\"fill\":\"toself\",\"fillcolor\":\"red\",\"name\":\"Cluster 3\",\"opacity\":0.4,\"r\":[-0.2889170416392352,0.6190776331893425,-0.05382683732834332,-0.07551713151157724,-0.3206809459201064,-0.2988652903201888],\"theta\":[\"Frequency\",\"CustGender\",\"CustAccountBalance\",\"TransactionAmount (INR)\",\"CustomerAge\",\"Recency\"],\"type\":\"scatterpolar\"},{\"fill\":\"toself\",\"fillcolor\":\"blue\",\"name\":\"Cluster 4\",\"opacity\":0.4,\"r\":[-0.13200526351952346,0.01797978206688885,4.949826329783701,9.426667242013904,1.1137956741190003,-0.12697027367756206],\"theta\":[\"Frequency\",\"CustGender\",\"CustAccountBalance\",\"TransactionAmount (INR)\",\"CustomerAge\",\"Recency\"],\"type\":\"scatterpolar\"},{\"fill\":\"toself\",\"fillcolor\":\"magenta\",\"name\":\"Cluster 5\",\"opacity\":0.4,\"r\":[-0.2978700813441584,0.26149317663259664,0.17693864591850314,0.1259380813692903,1.9838683647064232,-0.29309029062247877],\"theta\":[\"Frequency\",\"CustGender\",\"CustAccountBalance\",\"TransactionAmount (INR)\",\"CustomerAge\",\"Recency\"],\"type\":\"scatterpolar\"},{\"fill\":\"toself\",\"fillcolor\":\"orange\",\"name\":\"Cluster 6\",\"opacity\":0.4,\"r\":[null,null,null,null,null,null],\"theta\":[\"Frequency\",\"CustGender\",\"CustAccountBalance\",\"TransactionAmount (INR)\",\"CustomerAge\",\"Recency\"],\"type\":\"scatterpolar\"}],                        {\"template\":{\"data\":{\"histogram2dcontour\":[{\"type\":\"histogram2dcontour\",\"colorbar\":{\"outlinewidth\":0,\"ticks\":\"\"},\"colorscale\":[[0.0,\"#0d0887\"],[0.1111111111111111,\"#46039f\"],[0.2222222222222222,\"#7201a8\"],[0.3333333333333333,\"#9c179e\"],[0.4444444444444444,\"#bd3786\"],[0.5555555555555556,\"#d8576b\"],[0.6666666666666666,\"#ed7953\"],[0.7777777777777778,\"#fb9f3a\"],[0.8888888888888888,\"#fdca26\"],[1.0,\"#f0f921\"]]}],\"choropleth\":[{\"type\":\"choropleth\",\"colorbar\":{\"outlinewidth\":0,\"ticks\":\"\"}}],\"histogram2d\":[{\"type\":\"histogram2d\",\"colorbar\":{\"outlinewidth\":0,\"ticks\":\"\"},\"colorscale\":[[0.0,\"#0d0887\"],[0.1111111111111111,\"#46039f\"],[0.2222222222222222,\"#7201a8\"],[0.3333333333333333,\"#9c179e\"],[0.4444444444444444,\"#bd3786\"],[0.5555555555555556,\"#d8576b\"],[0.6666666666666666,\"#ed7953\"],[0.7777777777777778,\"#fb9f3a\"],[0.8888888888888888,\"#fdca26\"],[1.0,\"#f0f921\"]]}],\"heatmap\":[{\"type\":\"heatmap\",\"colorbar\":{\"outlinewidth\":0,\"ticks\":\"\"},\"colorscale\":[[0.0,\"#0d0887\"],[0.1111111111111111,\"#46039f\"],[0.2222222222222222,\"#7201a8\"],[0.3333333333333333,\"#9c179e\"],[0.4444444444444444,\"#bd3786\"],[0.5555555555555556,\"#d8576b\"],[0.6666666666666666,\"#ed7953\"],[0.7777777777777778,\"#fb9f3a\"],[0.8888888888888888,\"#fdca26\"],[1.0,\"#f0f921\"]]}],\"heatmapgl\":[{\"type\":\"heatmapgl\",\"colorbar\":{\"outlinewidth\":0,\"ticks\":\"\"},\"colorscale\":[[0.0,\"#0d0887\"],[0.1111111111111111,\"#46039f\"],[0.2222222222222222,\"#7201a8\"],[0.3333333333333333,\"#9c179e\"],[0.4444444444444444,\"#bd3786\"],[0.5555555555555556,\"#d8576b\"],[0.6666666666666666,\"#ed7953\"],[0.7777777777777778,\"#fb9f3a\"],[0.8888888888888888,\"#fdca26\"],[1.0,\"#f0f921\"]]}],\"contourcarpet\":[{\"type\":\"contourcarpet\",\"colorbar\":{\"outlinewidth\":0,\"ticks\":\"\"}}],\"contour\":[{\"type\":\"contour\",\"colorbar\":{\"outlinewidth\":0,\"ticks\":\"\"},\"colorscale\":[[0.0,\"#0d0887\"],[0.1111111111111111,\"#46039f\"],[0.2222222222222222,\"#7201a8\"],[0.3333333333333333,\"#9c179e\"],[0.4444444444444444,\"#bd3786\"],[0.5555555555555556,\"#d8576b\"],[0.6666666666666666,\"#ed7953\"],[0.7777777777777778,\"#fb9f3a\"],[0.8888888888888888,\"#fdca26\"],[1.0,\"#f0f921\"]]}],\"surface\":[{\"type\":\"surface\",\"colorbar\":{\"outlinewidth\":0,\"ticks\":\"\"},\"colorscale\":[[0.0,\"#0d0887\"],[0.1111111111111111,\"#46039f\"],[0.2222222222222222,\"#7201a8\"],[0.3333333333333333,\"#9c179e\"],[0.4444444444444444,\"#bd3786\"],[0.5555555555555556,\"#d8576b\"],[0.6666666666666666,\"#ed7953\"],[0.7777777777777778,\"#fb9f3a\"],[0.8888888888888888,\"#fdca26\"],[1.0,\"#f0f921\"]]}],\"mesh3d\":[{\"type\":\"mesh3d\",\"colorbar\":{\"outlinewidth\":0,\"ticks\":\"\"}}],\"scatter\":[{\"fillpattern\":{\"fillmode\":\"overlay\",\"size\":10,\"solidity\":0.2},\"type\":\"scatter\"}],\"parcoords\":[{\"type\":\"parcoords\",\"line\":{\"colorbar\":{\"outlinewidth\":0,\"ticks\":\"\"}}}],\"scatterpolargl\":[{\"type\":\"scatterpolargl\",\"marker\":{\"colorbar\":{\"outlinewidth\":0,\"ticks\":\"\"}}}],\"bar\":[{\"error_x\":{\"color\":\"#2a3f5f\"},\"error_y\":{\"color\":\"#2a3f5f\"},\"marker\":{\"line\":{\"color\":\"#E5ECF6\",\"width\":0.5},\"pattern\":{\"fillmode\":\"overlay\",\"size\":10,\"solidity\":0.2}},\"type\":\"bar\"}],\"scattergeo\":[{\"type\":\"scattergeo\",\"marker\":{\"colorbar\":{\"outlinewidth\":0,\"ticks\":\"\"}}}],\"scatterpolar\":[{\"type\":\"scatterpolar\",\"marker\":{\"colorbar\":{\"outlinewidth\":0,\"ticks\":\"\"}}}],\"histogram\":[{\"marker\":{\"pattern\":{\"fillmode\":\"overlay\",\"size\":10,\"solidity\":0.2}},\"type\":\"histogram\"}],\"scattergl\":[{\"type\":\"scattergl\",\"marker\":{\"colorbar\":{\"outlinewidth\":0,\"ticks\":\"\"}}}],\"scatter3d\":[{\"type\":\"scatter3d\",\"line\":{\"colorbar\":{\"outlinewidth\":0,\"ticks\":\"\"}},\"marker\":{\"colorbar\":{\"outlinewidth\":0,\"ticks\":\"\"}}}],\"scattermapbox\":[{\"type\":\"scattermapbox\",\"marker\":{\"colorbar\":{\"outlinewidth\":0,\"ticks\":\"\"}}}],\"scatterternary\":[{\"type\":\"scatterternary\",\"marker\":{\"colorbar\":{\"outlinewidth\":0,\"ticks\":\"\"}}}],\"scattercarpet\":[{\"type\":\"scattercarpet\",\"marker\":{\"colorbar\":{\"outlinewidth\":0,\"ticks\":\"\"}}}],\"carpet\":[{\"aaxis\":{\"endlinecolor\":\"#2a3f5f\",\"gridcolor\":\"white\",\"linecolor\":\"white\",\"minorgridcolor\":\"white\",\"startlinecolor\":\"#2a3f5f\"},\"baxis\":{\"endlinecolor\":\"#2a3f5f\",\"gridcolor\":\"white\",\"linecolor\":\"white\",\"minorgridcolor\":\"white\",\"startlinecolor\":\"#2a3f5f\"},\"type\":\"carpet\"}],\"table\":[{\"cells\":{\"fill\":{\"color\":\"#EBF0F8\"},\"line\":{\"color\":\"white\"}},\"header\":{\"fill\":{\"color\":\"#C8D4E3\"},\"line\":{\"color\":\"white\"}},\"type\":\"table\"}],\"barpolar\":[{\"marker\":{\"line\":{\"color\":\"#E5ECF6\",\"width\":0.5},\"pattern\":{\"fillmode\":\"overlay\",\"size\":10,\"solidity\":0.2}},\"type\":\"barpolar\"}],\"pie\":[{\"automargin\":true,\"type\":\"pie\"}]},\"layout\":{\"autotypenumbers\":\"strict\",\"colorway\":[\"#636efa\",\"#EF553B\",\"#00cc96\",\"#ab63fa\",\"#FFA15A\",\"#19d3f3\",\"#FF6692\",\"#B6E880\",\"#FF97FF\",\"#FECB52\"],\"font\":{\"color\":\"#2a3f5f\"},\"hovermode\":\"closest\",\"hoverlabel\":{\"align\":\"left\"},\"paper_bgcolor\":\"white\",\"plot_bgcolor\":\"#E5ECF6\",\"polar\":{\"bgcolor\":\"#E5ECF6\",\"angularaxis\":{\"gridcolor\":\"white\",\"linecolor\":\"white\",\"ticks\":\"\"},\"radialaxis\":{\"gridcolor\":\"white\",\"linecolor\":\"white\",\"ticks\":\"\"}},\"ternary\":{\"bgcolor\":\"#E5ECF6\",\"aaxis\":{\"gridcolor\":\"white\",\"linecolor\":\"white\",\"ticks\":\"\"},\"baxis\":{\"gridcolor\":\"white\",\"linecolor\":\"white\",\"ticks\":\"\"},\"caxis\":{\"gridcolor\":\"white\",\"linecolor\":\"white\",\"ticks\":\"\"}},\"coloraxis\":{\"colorbar\":{\"outlinewidth\":0,\"ticks\":\"\"}},\"colorscale\":{\"sequential\":[[0.0,\"#0d0887\"],[0.1111111111111111,\"#46039f\"],[0.2222222222222222,\"#7201a8\"],[0.3333333333333333,\"#9c179e\"],[0.4444444444444444,\"#bd3786\"],[0.5555555555555556,\"#d8576b\"],[0.6666666666666666,\"#ed7953\"],[0.7777777777777778,\"#fb9f3a\"],[0.8888888888888888,\"#fdca26\"],[1.0,\"#f0f921\"]],\"sequentialminus\":[[0.0,\"#0d0887\"],[0.1111111111111111,\"#46039f\"],[0.2222222222222222,\"#7201a8\"],[0.3333333333333333,\"#9c179e\"],[0.4444444444444444,\"#bd3786\"],[0.5555555555555556,\"#d8576b\"],[0.6666666666666666,\"#ed7953\"],[0.7777777777777778,\"#fb9f3a\"],[0.8888888888888888,\"#fdca26\"],[1.0,\"#f0f921\"]],\"diverging\":[[0,\"#8e0152\"],[0.1,\"#c51b7d\"],[0.2,\"#de77ae\"],[0.3,\"#f1b6da\"],[0.4,\"#fde0ef\"],[0.5,\"#f7f7f7\"],[0.6,\"#e6f5d0\"],[0.7,\"#b8e186\"],[0.8,\"#7fbc41\"],[0.9,\"#4d9221\"],[1,\"#276419\"]]},\"xaxis\":{\"gridcolor\":\"white\",\"linecolor\":\"white\",\"ticks\":\"\",\"title\":{\"standoff\":15},\"zerolinecolor\":\"white\",\"automargin\":true,\"zerolinewidth\":2},\"yaxis\":{\"gridcolor\":\"white\",\"linecolor\":\"white\",\"ticks\":\"\",\"title\":{\"standoff\":15},\"zerolinecolor\":\"white\",\"automargin\":true,\"zerolinewidth\":2},\"scene\":{\"xaxis\":{\"backgroundcolor\":\"#E5ECF6\",\"gridcolor\":\"white\",\"linecolor\":\"white\",\"showbackground\":true,\"ticks\":\"\",\"zerolinecolor\":\"white\",\"gridwidth\":2},\"yaxis\":{\"backgroundcolor\":\"#E5ECF6\",\"gridcolor\":\"white\",\"linecolor\":\"white\",\"showbackground\":true,\"ticks\":\"\",\"zerolinecolor\":\"white\",\"gridwidth\":2},\"zaxis\":{\"backgroundcolor\":\"#E5ECF6\",\"gridcolor\":\"white\",\"linecolor\":\"white\",\"showbackground\":true,\"ticks\":\"\",\"zerolinecolor\":\"white\",\"gridwidth\":2}},\"shapedefaults\":{\"line\":{\"color\":\"#2a3f5f\"}},\"annotationdefaults\":{\"arrowcolor\":\"#2a3f5f\",\"arrowhead\":0,\"arrowwidth\":1},\"geo\":{\"bgcolor\":\"white\",\"landcolor\":\"#E5ECF6\",\"subunitcolor\":\"white\",\"showland\":true,\"showlakes\":true,\"lakecolor\":\"white\"},\"title\":{\"x\":0.05},\"mapbox\":{\"style\":\"light\"}}},\"polar\":{\"radialaxis\":{\"visible\":true}},\"showlegend\":true,\"title\":{\"text\":\"Radar plot - Cluster attributes (Normalized Values)\"}},                        {\"responsive\": true}                    ).then(function(){\n",
              "                            \n",
              "var gd = document.getElementById('b0f3cda6-8b02-4b58-b0bb-8654b037301a');\n",
              "var x = new MutationObserver(function (mutations, observer) {{\n",
              "        var display = window.getComputedStyle(gd).display;\n",
              "        if (!display || display === 'none') {{\n",
              "            console.log([gd, 'removed!']);\n",
              "            Plotly.purge(gd);\n",
              "            observer.disconnect();\n",
              "        }}\n",
              "}});\n",
              "\n",
              "// Listen for the removal of the full notebook cells\n",
              "var notebookContainer = gd.closest('#notebook-container');\n",
              "if (notebookContainer) {{\n",
              "    x.observe(notebookContainer, {childList: true});\n",
              "}}\n",
              "\n",
              "// Listen for the clearing of the current output cell\n",
              "var outputEl = gd.closest('.output');\n",
              "if (outputEl) {{\n",
              "    x.observe(outputEl, {childList: true});\n",
              "}}\n",
              "\n",
              "                        })                };                            </script>        </div>\n",
              "</body>\n",
              "</html>"
            ]
          },
          "metadata": {},
          "output_type": "display_data"
        }
      ],
      "source": [
        "attributes = df_scaled.columns[:6]\n",
        "colors=['purple','yellow','red','blue','magenta','orange']\n",
        "cluster=['Cluster 1','Cluster 2','Cluster 3','Cluster 4','Cluster 5','Cluster 6']\n",
        "\n",
        "fig = go.Figure()\n",
        "for index in range(0,6):\n",
        "    # Calculate mean values for each attribute within the cluster, preserving the array structure\n",
        "    r_values = df_scaled.loc[df_scaled.Label == index, attributes].mean().values\n",
        "    fig.add_trace(go.Scatterpolar(\n",
        "        r=r_values,  # Pass the array of mean values\n",
        "        theta=attributes,\n",
        "        fill='toself',\n",
        "        fillcolor=colors[index],\n",
        "        opacity=0.4,\n",
        "        name=cluster[index]\n",
        "    ))\n",
        "\n",
        "fig.update_layout(\n",
        "    polar=dict(radialaxis=dict(visible=True)),\n",
        "    showlegend=True,\n",
        "    title=\"Radar plot - Cluster attributes (Normalized Values)\"\n",
        ")"
      ]
    },
    {
      "cell_type": "markdown",
      "metadata": {
        "id": "fshTZ2kMPqvo"
      },
      "source": [
        "\n",
        "\n",
        "- cluster1 : has customers with Frequency and Recency but the other columns are the same\n",
        "\n",
        "- cluster2 : has customers with high Frequencyt, Recency, CustomerAge, TransactionAmount(INR) and Account Balance but the other columns are the same\n",
        "\n",
        "- cluster3:\n",
        "\n",
        "- cluster4: has customer high transcation amount and medium Account Balance but the other columns are the same\n",
        "\n",
        "- cluster5 : has customers with high CustomerAge but the other columns are the same\n",
        "\n",
        "\n"
      ]
    }
  ],
  "metadata": {
    "colab": {
      "provenance": []
    },
    "kernelspec": {
      "display_name": "Python 3",
      "language": "python",
      "name": "python3"
    },
    "language_info": {
      "codemirror_mode": {
        "name": "ipython",
        "version": 3
      },
      "file_extension": ".py",
      "mimetype": "text/x-python",
      "name": "python",
      "nbconvert_exporter": "python",
      "pygments_lexer": "ipython3",
      "version": "3.12.4"
    }
  },
  "nbformat": 4,
  "nbformat_minor": 0
}
